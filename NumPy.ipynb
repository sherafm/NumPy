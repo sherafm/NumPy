{
 "cells": [
  {
   "cell_type": "markdown",
   "metadata": {},
   "source": [
    "## Numpy"
   ]
  },
  {
   "cell_type": "code",
   "execution_count": 121,
   "metadata": {
    "collapsed": true
   },
   "outputs": [],
   "source": [
    "import numpy as np"
   ]
  },
  {
   "cell_type": "markdown",
   "metadata": {},
   "source": [
    "\n",
    "### N-dimensional arrays\n",
    "\n",
    "#### General\n",
    "\n",
    "Ndarrays objects are multidimensional, homogeneous containers of fixed-size items."
   ]
  },
  {
   "cell_type": "code",
   "execution_count": 122,
   "metadata": {
    "collapsed": false
   },
   "outputs": [
    {
     "data": {
      "text/plain": [
       "array([[ 19.23,  39.14,  67.78,  98.49],\n",
       "       [ 56.78,  88.78,  99.01,  99.99],\n",
       "       [ 12.  ,  76.87,  91.09,  10.01],\n",
       "       [ 99.01,  70.32,  64.89,  36.68]])"
      ]
     },
     "execution_count": 122,
     "metadata": {},
     "output_type": "execute_result"
    }
   ],
   "source": [
    "list = [[19.23, 39.14, 67.78, 98.49], [56.78, 88.78, 99.01, 99.99], [12.00, 76.87, 91.09, 10.01], [99.01, 70.32, 64.89, 36.68]]\n",
    "\n",
    "array = np.array(list) # Construct Ndarray\n",
    "\n",
    "array"
   ]
  },
  {
   "cell_type": "code",
   "execution_count": 123,
   "metadata": {
    "collapsed": false
   },
   "outputs": [
    {
     "data": {
      "text/plain": [
       "(4, 4)"
      ]
     },
     "execution_count": 123,
     "metadata": {},
     "output_type": "execute_result"
    }
   ],
   "source": [
    "array.shape # Ndarray Structure"
   ]
  },
  {
   "cell_type": "code",
   "execution_count": 124,
   "metadata": {
    "collapsed": false
   },
   "outputs": [
    {
     "data": {
      "text/plain": [
       "array([ 19.23,  39.14,  67.78,  98.49])"
      ]
     },
     "execution_count": 124,
     "metadata": {},
     "output_type": "execute_result"
    }
   ],
   "source": [
    "array[0] # Ndarray Indexing"
   ]
  },
  {
   "cell_type": "code",
   "execution_count": 125,
   "metadata": {
    "collapsed": false
   },
   "outputs": [
    {
     "data": {
      "text/plain": [
       "2"
      ]
     },
     "execution_count": 125,
     "metadata": {},
     "output_type": "execute_result"
    }
   ],
   "source": [
    "array.ndim # Number Of Dimensions"
   ]
  },
  {
   "cell_type": "code",
   "execution_count": 126,
   "metadata": {
    "collapsed": false
   },
   "outputs": [
    {
     "data": {
      "text/plain": [
       "88.78"
      ]
     },
     "execution_count": 126,
     "metadata": {},
     "output_type": "execute_result"
    }
   ],
   "source": [
    "array.item(1,1) # Select Item"
   ]
  },
  {
   "cell_type": "markdown",
   "metadata": {},
   "source": [
    "#### Transformation"
   ]
  },
  {
   "cell_type": "code",
   "execution_count": 127,
   "metadata": {
    "collapsed": false
   },
   "outputs": [
    {
     "data": {
      "text/plain": [
       "[[19.23, 39.14, 67.78, 98.49],\n",
       " [56.78, 88.78, 99.01, 99.99],\n",
       " [12.0, 76.87, 91.09, 10.01],\n",
       " [99.01, 70.32, 64.89, 36.68]]"
      ]
     },
     "execution_count": 127,
     "metadata": {},
     "output_type": "execute_result"
    }
   ],
   "source": [
    "listed = array.tolist() # Transform An Array Into A List\n",
    "\n",
    "listed"
   ]
  },
  {
   "cell_type": "code",
   "execution_count": 128,
   "metadata": {
    "collapsed": false
   },
   "outputs": [
    {
     "data": {
      "text/plain": [
       "array([[ 19.23,  39.14,  67.78,  98.49,  56.78,  88.78,  99.01,  99.99],\n",
       "       [ 12.  ,  76.87,  91.09,  10.01,  99.01,  70.32,  64.89,  36.68]])"
      ]
     },
     "execution_count": 128,
     "metadata": {},
     "output_type": "execute_result"
    }
   ],
   "source": [
    "reshaped = array.reshape(2,8) # Reshape An Array Structure\n",
    "reshaped"
   ]
  },
  {
   "cell_type": "code",
   "execution_count": 129,
   "metadata": {
    "collapsed": false
   },
   "outputs": [
    {
     "data": {
      "text/plain": [
       "array([[ 19.23,  12.  ],\n",
       "       [ 39.14,  76.87],\n",
       "       [ 67.78,  91.09],\n",
       "       [ 98.49,  10.01],\n",
       "       [ 56.78,  99.01],\n",
       "       [ 88.78,  70.32],\n",
       "       [ 99.01,  64.89],\n",
       "       [ 99.99,  36.68]])"
      ]
     },
     "execution_count": 129,
     "metadata": {},
     "output_type": "execute_result"
    }
   ],
   "source": [
    "swaped = reshaped.swapaxes(0,1) # Swap Array Axes\n",
    "swaped"
   ]
  },
  {
   "cell_type": "code",
   "execution_count": 130,
   "metadata": {
    "collapsed": false
   },
   "outputs": [
    {
     "data": {
      "text/plain": [
       "array([ 19.23,  39.14,  67.78,  98.49,  56.78,  88.78,  99.01,  99.99,\n",
       "        12.  ,  76.87,  91.09,  10.01,  99.01,  70.32,  64.89,  36.68])"
      ]
     },
     "execution_count": 130,
     "metadata": {},
     "output_type": "execute_result"
    }
   ],
   "source": [
    "flattened = reshaped.flatten() # Reduce The Array To One Dimension\n",
    "flattened"
   ]
  },
  {
   "cell_type": "markdown",
   "metadata": {},
   "source": [
    "#### Manipulation"
   ]
  },
  {
   "cell_type": "code",
   "execution_count": 131,
   "metadata": {
    "collapsed": false
   },
   "outputs": [
    {
     "data": {
      "text/plain": [
       "array([ 19.23,  19.23,  19.23,  39.14,  39.14,  39.14,  67.78,  67.78,\n",
       "        67.78,  98.49,  98.49,  98.49,  56.78,  56.78,  56.78,  88.78,\n",
       "        88.78,  88.78,  99.01,  99.01,  99.01,  99.99,  99.99,  99.99,\n",
       "        12.  ,  12.  ,  12.  ,  76.87,  76.87,  76.87,  91.09,  91.09,\n",
       "        91.09,  10.01,  10.01,  10.01,  99.01,  99.01,  99.01,  70.32,\n",
       "        70.32,  70.32,  64.89,  64.89,  64.89,  36.68,  36.68,  36.68])"
      ]
     },
     "execution_count": 131,
     "metadata": {},
     "output_type": "execute_result"
    }
   ],
   "source": [
    "repeated = array.repeat(3) # Repeats Elements Of An Array\n",
    "repeated"
   ]
  },
  {
   "cell_type": "code",
   "execution_count": 132,
   "metadata": {
    "collapsed": false
   },
   "outputs": [
    {
     "name": "stdout",
     "output_type": "stream",
     "text": [
      "[[ 19.23  39.14  67.78  98.49]\n",
      " [ 56.78  88.78  99.01  99.99]\n",
      " [ 10.01  12.    76.87  91.09]\n",
      " [ 36.68  64.89  70.32  99.01]]\n"
     ]
    }
   ],
   "source": [
    "sortedarray = np.sort(array) # Sort An Array Within Items\n",
    "\n",
    "print sortedarray"
   ]
  },
  {
   "cell_type": "code",
   "execution_count": 133,
   "metadata": {
    "collapsed": false
   },
   "outputs": [
    {
     "data": {
      "text/plain": [
       "array([ 10.01,  12.  ,  19.23,  36.68,  39.14,  56.78,  64.89,  67.78,\n",
       "        70.32,  76.87,  88.78,  91.09,  98.49,  99.01,  99.01,  99.99])"
      ]
     },
     "execution_count": 133,
     "metadata": {},
     "output_type": "execute_result"
    }
   ],
   "source": [
    "completelysortedarray = np.sort(array, axis=None) # Sort The Whole Array\n",
    "\n",
    "completelysortedarray"
   ]
  },
  {
   "cell_type": "raw",
   "metadata": {},
   "source": [
    "NB: Create Labeled Ndarray, Sort By Age, Then Height If Ages Are Equal:\n",
    "\n",
    "dtype = [('name', 'S10'), ('height', float), ('age', int)]\n",
    "values = [('Arthur', 1.8, 41), ('Lancelot', 1.9, 38),\n",
    "            ('Galahad', 1.7, 38)]\n",
    "            \n",
    "a = np.array(values, dtype=dtype)\n",
    "\n",
    "np.sort(a, order=['age', 'height'])"
   ]
  },
  {
   "cell_type": "markdown",
   "metadata": {},
   "source": [
    "#### Calculation"
   ]
  },
  {
   "cell_type": "code",
   "execution_count": 170,
   "metadata": {
    "collapsed": false
   },
   "outputs": [
    {
     "data": {
      "text/plain": [
       "array([ 79.26,  43.21,  81.08,  62.33])"
      ]
     },
     "execution_count": 170,
     "metadata": {},
     "output_type": "execute_result"
    }
   ],
   "source": [
    "array.argmax() # Returns Index Of The Maximum Value\n",
    "\n",
    "array.min() # Returns Minimum Value\n",
    "\n",
    "# np.maximum(array1, array2) # Maximum Between 2 Arrays\n",
    "\n",
    "array.ptp() # Peak To Peak: Maximum - Minimum\n",
    "\n",
    "array.ptp(0) # Column Maximum - Column Minimum\n",
    "\n",
    "array.ptp(1) # Row Maximum - Row Minimum"
   ]
  },
  {
   "cell_type": "code",
   "execution_count": 171,
   "metadata": {
    "collapsed": false
   },
   "outputs": [
    {
     "data": {
      "text/plain": [
       "array([[ 45.  ,  45.  ,  67.78,  76.  ],\n",
       "       [ 56.78,  76.  ,  76.  ,  76.  ],\n",
       "       [ 45.  ,  76.  ,  76.  ,  45.  ],\n",
       "       [ 76.  ,  70.32,  64.89,  45.  ]])"
      ]
     },
     "execution_count": 171,
     "metadata": {},
     "output_type": "execute_result"
    }
   ],
   "source": [
    "array.clip(45,76) # Returns An Array With Values Within The Arguments Range"
   ]
  },
  {
   "cell_type": "code",
   "execution_count": 172,
   "metadata": {
    "collapsed": false
   },
   "outputs": [
    {
     "data": {
      "text/plain": [
       "array([[  19.,   39.,   68.,   98.],\n",
       "       [  57.,   89.,   99.,  100.],\n",
       "       [  12.,   77.,   91.,   10.],\n",
       "       [  99.,   70.,   65.,   37.]])"
      ]
     },
     "execution_count": 172,
     "metadata": {},
     "output_type": "execute_result"
    }
   ],
   "source": [
    "array.round(decimals=0) #Rounds The Floating Array Values"
   ]
  },
  {
   "cell_type": "code",
   "execution_count": 173,
   "metadata": {
    "collapsed": false
   },
   "outputs": [
    {
     "data": {
      "text/plain": [
       "array([   19.23,    58.37,   126.15,   224.64,   281.42,   370.2 ,\n",
       "         469.21,   569.2 ,   581.2 ,   658.07,   749.16,   759.17,\n",
       "         858.18,   928.5 ,   993.39,  1030.07])"
      ]
     },
     "execution_count": 173,
     "metadata": {},
     "output_type": "execute_result"
    }
   ],
   "source": [
    "array.sum() # Sums The Whole Array\n",
    "\n",
    "array.cumsum() # Gives The Cumulative Array Sum"
   ]
  },
  {
   "cell_type": "code",
   "execution_count": 158,
   "metadata": {
    "collapsed": false
   },
   "outputs": [
    {
     "data": {
      "text/plain": [
       "31.167207620500346"
      ]
     },
     "execution_count": 158,
     "metadata": {},
     "output_type": "execute_result"
    }
   ],
   "source": [
    "array.mean(0) # Array Average Value\n",
    "\n",
    "array.var() # Array Variance\n",
    "\n",
    "array.std() # Standard Deviation"
   ]
  },
  {
   "cell_type": "code",
   "execution_count": 159,
   "metadata": {
    "collapsed": false
   },
   "outputs": [
    {
     "data": {
      "text/plain": [
       "array([[ 19.23,  39.14,  67.78,  98.49],\n",
       "       [ 56.78,  88.78,  99.01,  99.99],\n",
       "       [ 12.  ,  76.87,  91.09,  10.01],\n",
       "       [ 99.01,  70.32,  64.89,  36.68]])"
      ]
     },
     "execution_count": 159,
     "metadata": {},
     "output_type": "execute_result"
    }
   ],
   "source": [
    "array"
   ]
  },
  {
   "cell_type": "code",
   "execution_count": 160,
   "metadata": {
    "collapsed": false
   },
   "outputs": [
    {
     "data": {
      "text/plain": [
       "array([  1.92300000e+01,   7.52662200e+02,   5.10154439e+04,\n",
       "         5.02451107e+06,   2.85291739e+08,   2.53282006e+10,\n",
       "         2.50774514e+12,   2.50749436e+14,   3.00899323e+15,\n",
       "         2.31301310e+17,   2.10692363e+19,   2.10903056e+20,\n",
       "         2.08815115e+22,   1.46838789e+24,   9.52836903e+25,\n",
       "         3.49500576e+27])"
      ]
     },
     "execution_count": 160,
     "metadata": {},
     "output_type": "execute_result"
    }
   ],
   "source": [
    "array.prod() # Product Of Array Values\n",
    "\n",
    "array.cumprod() # Cumulated Product"
   ]
  },
  {
   "cell_type": "code",
   "execution_count": 161,
   "metadata": {
    "collapsed": false
   },
   "outputs": [
    {
     "data": {
      "text/plain": [
       "46.755000000000003"
      ]
     },
     "execution_count": 161,
     "metadata": {},
     "output_type": "execute_result"
    }
   ],
   "source": [
    "array[0].mean() # Mean Of The First Row\n",
    "\n",
    "array[:,0].mean() # Mean Of The First Column"
   ]
  },
  {
   "cell_type": "code",
   "execution_count": 162,
   "metadata": {
    "collapsed": false
   },
   "outputs": [
    {
     "data": {
      "text/plain": [
       "array([[ 19.23,  39.14,  67.78,  98.49],\n",
       "       [ 56.78,  88.78,  99.01,  99.99],\n",
       "       [ 12.  ,  76.87,  91.09,  10.01],\n",
       "       [ 99.01,  70.32,  64.89,  36.68]])"
      ]
     },
     "execution_count": 162,
     "metadata": {},
     "output_type": "execute_result"
    }
   ],
   "source": [
    "array"
   ]
  },
  {
   "cell_type": "markdown",
   "metadata": {},
   "source": [
    "#### Indexing/Slicing"
   ]
  },
  {
   "cell_type": "code",
   "execution_count": 163,
   "metadata": {
    "collapsed": false
   },
   "outputs": [
    {
     "data": {
      "text/plain": [
       "[39.14, 98.49, 88.78]"
      ]
     },
     "execution_count": 163,
     "metadata": {},
     "output_type": "execute_result"
    }
   ],
   "source": [
    "flattened = [ 19.23,  39.14,  67.78,  98.49,  56.78,  88.78,  99.01,  99.99,\n",
    "        12.  ,  76.87,  91.09,  10.01,  99.01,  70.32,  64.89,  36.68]\n",
    "\n",
    "\n",
    "flattened[1:7:2] # Selects Index 1 To 7, 2 By 2"
   ]
  },
  {
   "cell_type": "code",
   "execution_count": 164,
   "metadata": {
    "collapsed": false
   },
   "outputs": [
    {
     "data": {
      "text/plain": [
       "array([ 19.23,  12.  ,  10.01])"
      ]
     },
     "execution_count": 164,
     "metadata": {},
     "output_type": "execute_result"
    }
   ],
   "source": [
    "def differentthantwo(element):\n",
    "    return element == 2 or element == 3\n",
    "\n",
    "filter(lessthanzero, flattened) # Conditional Selection For A List\n",
    "\n",
    "array[(array != 2) & (array < 20)] # Conditional Selection For An Array"
   ]
  },
  {
   "cell_type": "markdown",
   "metadata": {},
   "source": [
    "#### Miscellaneous"
   ]
  },
  {
   "cell_type": "code",
   "execution_count": 165,
   "metadata": {
    "collapsed": false
   },
   "outputs": [
    {
     "data": {
      "text/plain": [
       "array([[-1.72379332, -0.76851404,  1.42639033],\n",
       "       [ 0.89531347,  0.08657664,  1.46681758]])"
      ]
     },
     "execution_count": 165,
     "metadata": {},
     "output_type": "execute_result"
    }
   ],
   "source": [
    "data = np.random.randn(2,3) # Create An Array With Random Numbers Between -1 And 1\n",
    "\n",
    "data # Random.Rand => Betwen 0 And 1"
   ]
  },
  {
   "cell_type": "code",
   "execution_count": 166,
   "metadata": {
    "collapsed": false
   },
   "outputs": [
    {
     "data": {
      "text/plain": [
       "array([[-17.23793317,  -7.68514041,  14.26390332],\n",
       "       [  8.95313466,   0.86576636,  14.66817577]])"
      ]
     },
     "execution_count": 166,
     "metadata": {},
     "output_type": "execute_result"
    }
   ],
   "source": [
    "data * 10 # Multiply Each Value"
   ]
  },
  {
   "cell_type": "code",
   "execution_count": 167,
   "metadata": {
    "collapsed": false
   },
   "outputs": [
    {
     "data": {
      "text/plain": [
       "array([ 0.,  0.,  0.,  0.,  0.,  0.,  0.,  0.,  0.,  0.,  0.,  0.,  0.,\n",
       "        0.,  0.])"
      ]
     },
     "execution_count": 167,
     "metadata": {},
     "output_type": "execute_result"
    }
   ],
   "source": [
    "np.zeros(15) # Create 15 Zeros"
   ]
  },
  {
   "cell_type": "code",
   "execution_count": 168,
   "metadata": {
    "collapsed": false
   },
   "outputs": [
    {
     "data": {
      "text/plain": [
       "array([ 0,  1,  2,  3,  4,  5,  6,  7,  8,  9, 10, 11, 12, 13, 14])"
      ]
     },
     "execution_count": 168,
     "metadata": {},
     "output_type": "execute_result"
    }
   ],
   "source": [
    "np.arange(15) # Create a Range Of Numbers"
   ]
  },
  {
   "cell_type": "code",
   "execution_count": 169,
   "metadata": {
    "collapsed": false
   },
   "outputs": [
    {
     "data": {
      "text/plain": [
       "array([ 0.        ,  1.        ,  1.41421356,  1.73205081,  2.        ,\n",
       "        2.23606798,  2.44948974,  2.64575131,  2.82842712,  3.        ,\n",
       "        3.16227766,  3.31662479,  3.46410162,  3.60555128,  3.74165739])"
      ]
     },
     "execution_count": 169,
     "metadata": {},
     "output_type": "execute_result"
    }
   ],
   "source": [
    "np.sqrt(np.arange(15)) # Square Root"
   ]
  }
 ],
 "metadata": {
  "kernelspec": {
   "display_name": "Python 2",
   "language": "python",
   "name": "python2"
  },
  "language_info": {
   "codemirror_mode": {
    "name": "ipython",
    "version": 2
   },
   "file_extension": ".py",
   "mimetype": "text/x-python",
   "name": "python",
   "nbconvert_exporter": "python",
   "pygments_lexer": "ipython2",
   "version": "2.7.10"
  }
 },
 "nbformat": 4,
 "nbformat_minor": 0
}
